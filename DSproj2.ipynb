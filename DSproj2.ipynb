{
  "nbformat": 4,
  "nbformat_minor": 0,
  "metadata": {
    "colab": {
      "provenance": [],
      "authorship_tag": "ABX9TyO6zMXBXb+rSYHNjtyGwDq6",
      "include_colab_link": true
    },
    "kernelspec": {
      "name": "python3",
      "display_name": "Python 3"
    },
    "language_info": {
      "name": "python"
    }
  },
  "cells": [
    {
      "cell_type": "markdown",
      "metadata": {
        "id": "view-in-github",
        "colab_type": "text"
      },
      "source": [
        "<a href=\"https://colab.research.google.com/github/yashm2408/DSproject2/blob/main/DSproj2.ipynb\" target=\"_parent\"><img src=\"https://colab.research.google.com/assets/colab-badge.svg\" alt=\"Open In Colab\"/></a>"
      ]
    },
    {
      "cell_type": "markdown",
      "source": [
        "Nobel Laureates"
      ],
      "metadata": {
        "id": "k2uMUOBuEKP0"
      }
    },
    {
      "cell_type": "markdown",
      "source": [
        "Import Libraries"
      ],
      "metadata": {
        "id": "lppLNXvsEVep"
      }
    },
    {
      "cell_type": "code",
      "source": [
        "import numpy as np\n",
        "import matplotlib.pyplot as plt\n",
        "import pandas as pd\n",
        "\n",
        "nobel = pd.read_csv(\"laureates.csv\")\n",
        "nobel.describe()"
      ],
      "metadata": {
        "colab": {
          "base_uri": "https://localhost:8080/",
          "height": 390
        },
        "id": "L7oiIJIyElYB",
        "outputId": "a71cc772-788f-4102-f703-791fb8e46c8b"
      },
      "execution_count": 3,
      "outputs": [
        {
          "output_type": "error",
          "ename": "FileNotFoundError",
          "evalue": "ignored",
          "traceback": [
            "\u001b[0;31m---------------------------------------------------------------------------\u001b[0m",
            "\u001b[0;31mFileNotFoundError\u001b[0m                         Traceback (most recent call last)",
            "\u001b[0;32m<ipython-input-3-7ef9098c96fc>\u001b[0m in \u001b[0;36m<cell line: 7>\u001b[0;34m()\u001b[0m\n\u001b[1;32m      5\u001b[0m \u001b[0;31m# Load the dataset into a Pandas DataFrame\u001b[0m\u001b[0;34m\u001b[0m\u001b[0;34m\u001b[0m\u001b[0m\n\u001b[1;32m      6\u001b[0m \u001b[0mfile_path\u001b[0m \u001b[0;34m=\u001b[0m \u001b[0;34m\"path/to/your/dataset.csv\"\u001b[0m\u001b[0;34m\u001b[0m\u001b[0;34m\u001b[0m\u001b[0m\n\u001b[0;32m----> 7\u001b[0;31m \u001b[0mnobel_df\u001b[0m \u001b[0;34m=\u001b[0m \u001b[0mpd\u001b[0m\u001b[0;34m.\u001b[0m\u001b[0mread_csv\u001b[0m\u001b[0;34m(\u001b[0m\u001b[0mfile_path\u001b[0m\u001b[0;34m)\u001b[0m\u001b[0;34m\u001b[0m\u001b[0;34m\u001b[0m\u001b[0m\n\u001b[0m\u001b[1;32m      8\u001b[0m \u001b[0;34m\u001b[0m\u001b[0m\n\u001b[1;32m      9\u001b[0m \u001b[0;31m# Display the first few rows of the DataFrame\u001b[0m\u001b[0;34m\u001b[0m\u001b[0;34m\u001b[0m\u001b[0m\n",
            "\u001b[0;32m/usr/local/lib/python3.10/dist-packages/pandas/util/_decorators.py\u001b[0m in \u001b[0;36mwrapper\u001b[0;34m(*args, **kwargs)\u001b[0m\n\u001b[1;32m    209\u001b[0m                 \u001b[0;32melse\u001b[0m\u001b[0;34m:\u001b[0m\u001b[0;34m\u001b[0m\u001b[0;34m\u001b[0m\u001b[0m\n\u001b[1;32m    210\u001b[0m                     \u001b[0mkwargs\u001b[0m\u001b[0;34m[\u001b[0m\u001b[0mnew_arg_name\u001b[0m\u001b[0;34m]\u001b[0m \u001b[0;34m=\u001b[0m \u001b[0mnew_arg_value\u001b[0m\u001b[0;34m\u001b[0m\u001b[0;34m\u001b[0m\u001b[0m\n\u001b[0;32m--> 211\u001b[0;31m             \u001b[0;32mreturn\u001b[0m \u001b[0mfunc\u001b[0m\u001b[0;34m(\u001b[0m\u001b[0;34m*\u001b[0m\u001b[0margs\u001b[0m\u001b[0;34m,\u001b[0m \u001b[0;34m**\u001b[0m\u001b[0mkwargs\u001b[0m\u001b[0;34m)\u001b[0m\u001b[0;34m\u001b[0m\u001b[0;34m\u001b[0m\u001b[0m\n\u001b[0m\u001b[1;32m    212\u001b[0m \u001b[0;34m\u001b[0m\u001b[0m\n\u001b[1;32m    213\u001b[0m         \u001b[0;32mreturn\u001b[0m \u001b[0mcast\u001b[0m\u001b[0;34m(\u001b[0m\u001b[0mF\u001b[0m\u001b[0;34m,\u001b[0m \u001b[0mwrapper\u001b[0m\u001b[0;34m)\u001b[0m\u001b[0;34m\u001b[0m\u001b[0;34m\u001b[0m\u001b[0m\n",
            "\u001b[0;32m/usr/local/lib/python3.10/dist-packages/pandas/util/_decorators.py\u001b[0m in \u001b[0;36mwrapper\u001b[0;34m(*args, **kwargs)\u001b[0m\n\u001b[1;32m    329\u001b[0m                     \u001b[0mstacklevel\u001b[0m\u001b[0;34m=\u001b[0m\u001b[0mfind_stack_level\u001b[0m\u001b[0;34m(\u001b[0m\u001b[0;34m)\u001b[0m\u001b[0;34m,\u001b[0m\u001b[0;34m\u001b[0m\u001b[0;34m\u001b[0m\u001b[0m\n\u001b[1;32m    330\u001b[0m                 )\n\u001b[0;32m--> 331\u001b[0;31m             \u001b[0;32mreturn\u001b[0m \u001b[0mfunc\u001b[0m\u001b[0;34m(\u001b[0m\u001b[0;34m*\u001b[0m\u001b[0margs\u001b[0m\u001b[0;34m,\u001b[0m \u001b[0;34m**\u001b[0m\u001b[0mkwargs\u001b[0m\u001b[0;34m)\u001b[0m\u001b[0;34m\u001b[0m\u001b[0;34m\u001b[0m\u001b[0m\n\u001b[0m\u001b[1;32m    332\u001b[0m \u001b[0;34m\u001b[0m\u001b[0m\n\u001b[1;32m    333\u001b[0m         \u001b[0;31m# error: \"Callable[[VarArg(Any), KwArg(Any)], Any]\" has no\u001b[0m\u001b[0;34m\u001b[0m\u001b[0;34m\u001b[0m\u001b[0m\n",
            "\u001b[0;32m/usr/local/lib/python3.10/dist-packages/pandas/io/parsers/readers.py\u001b[0m in \u001b[0;36mread_csv\u001b[0;34m(filepath_or_buffer, sep, delimiter, header, names, index_col, usecols, squeeze, prefix, mangle_dupe_cols, dtype, engine, converters, true_values, false_values, skipinitialspace, skiprows, skipfooter, nrows, na_values, keep_default_na, na_filter, verbose, skip_blank_lines, parse_dates, infer_datetime_format, keep_date_col, date_parser, dayfirst, cache_dates, iterator, chunksize, compression, thousands, decimal, lineterminator, quotechar, quoting, doublequote, escapechar, comment, encoding, encoding_errors, dialect, error_bad_lines, warn_bad_lines, on_bad_lines, delim_whitespace, low_memory, memory_map, float_precision, storage_options)\u001b[0m\n\u001b[1;32m    948\u001b[0m     \u001b[0mkwds\u001b[0m\u001b[0;34m.\u001b[0m\u001b[0mupdate\u001b[0m\u001b[0;34m(\u001b[0m\u001b[0mkwds_defaults\u001b[0m\u001b[0;34m)\u001b[0m\u001b[0;34m\u001b[0m\u001b[0;34m\u001b[0m\u001b[0m\n\u001b[1;32m    949\u001b[0m \u001b[0;34m\u001b[0m\u001b[0m\n\u001b[0;32m--> 950\u001b[0;31m     \u001b[0;32mreturn\u001b[0m \u001b[0m_read\u001b[0m\u001b[0;34m(\u001b[0m\u001b[0mfilepath_or_buffer\u001b[0m\u001b[0;34m,\u001b[0m \u001b[0mkwds\u001b[0m\u001b[0;34m)\u001b[0m\u001b[0;34m\u001b[0m\u001b[0;34m\u001b[0m\u001b[0m\n\u001b[0m\u001b[1;32m    951\u001b[0m \u001b[0;34m\u001b[0m\u001b[0m\n\u001b[1;32m    952\u001b[0m \u001b[0;34m\u001b[0m\u001b[0m\n",
            "\u001b[0;32m/usr/local/lib/python3.10/dist-packages/pandas/io/parsers/readers.py\u001b[0m in \u001b[0;36m_read\u001b[0;34m(filepath_or_buffer, kwds)\u001b[0m\n\u001b[1;32m    603\u001b[0m \u001b[0;34m\u001b[0m\u001b[0m\n\u001b[1;32m    604\u001b[0m     \u001b[0;31m# Create the parser.\u001b[0m\u001b[0;34m\u001b[0m\u001b[0;34m\u001b[0m\u001b[0m\n\u001b[0;32m--> 605\u001b[0;31m     \u001b[0mparser\u001b[0m \u001b[0;34m=\u001b[0m \u001b[0mTextFileReader\u001b[0m\u001b[0;34m(\u001b[0m\u001b[0mfilepath_or_buffer\u001b[0m\u001b[0;34m,\u001b[0m \u001b[0;34m**\u001b[0m\u001b[0mkwds\u001b[0m\u001b[0;34m)\u001b[0m\u001b[0;34m\u001b[0m\u001b[0;34m\u001b[0m\u001b[0m\n\u001b[0m\u001b[1;32m    606\u001b[0m \u001b[0;34m\u001b[0m\u001b[0m\n\u001b[1;32m    607\u001b[0m     \u001b[0;32mif\u001b[0m \u001b[0mchunksize\u001b[0m \u001b[0;32mor\u001b[0m \u001b[0miterator\u001b[0m\u001b[0;34m:\u001b[0m\u001b[0;34m\u001b[0m\u001b[0;34m\u001b[0m\u001b[0m\n",
            "\u001b[0;32m/usr/local/lib/python3.10/dist-packages/pandas/io/parsers/readers.py\u001b[0m in \u001b[0;36m__init__\u001b[0;34m(self, f, engine, **kwds)\u001b[0m\n\u001b[1;32m   1440\u001b[0m \u001b[0;34m\u001b[0m\u001b[0m\n\u001b[1;32m   1441\u001b[0m         \u001b[0mself\u001b[0m\u001b[0;34m.\u001b[0m\u001b[0mhandles\u001b[0m\u001b[0;34m:\u001b[0m \u001b[0mIOHandles\u001b[0m \u001b[0;34m|\u001b[0m \u001b[0;32mNone\u001b[0m \u001b[0;34m=\u001b[0m \u001b[0;32mNone\u001b[0m\u001b[0;34m\u001b[0m\u001b[0;34m\u001b[0m\u001b[0m\n\u001b[0;32m-> 1442\u001b[0;31m         \u001b[0mself\u001b[0m\u001b[0;34m.\u001b[0m\u001b[0m_engine\u001b[0m \u001b[0;34m=\u001b[0m \u001b[0mself\u001b[0m\u001b[0;34m.\u001b[0m\u001b[0m_make_engine\u001b[0m\u001b[0;34m(\u001b[0m\u001b[0mf\u001b[0m\u001b[0;34m,\u001b[0m \u001b[0mself\u001b[0m\u001b[0;34m.\u001b[0m\u001b[0mengine\u001b[0m\u001b[0;34m)\u001b[0m\u001b[0;34m\u001b[0m\u001b[0;34m\u001b[0m\u001b[0m\n\u001b[0m\u001b[1;32m   1443\u001b[0m \u001b[0;34m\u001b[0m\u001b[0m\n\u001b[1;32m   1444\u001b[0m     \u001b[0;32mdef\u001b[0m \u001b[0mclose\u001b[0m\u001b[0;34m(\u001b[0m\u001b[0mself\u001b[0m\u001b[0;34m)\u001b[0m \u001b[0;34m->\u001b[0m \u001b[0;32mNone\u001b[0m\u001b[0;34m:\u001b[0m\u001b[0;34m\u001b[0m\u001b[0;34m\u001b[0m\u001b[0m\n",
            "\u001b[0;32m/usr/local/lib/python3.10/dist-packages/pandas/io/parsers/readers.py\u001b[0m in \u001b[0;36m_make_engine\u001b[0;34m(self, f, engine)\u001b[0m\n\u001b[1;32m   1733\u001b[0m                 \u001b[0;32mif\u001b[0m \u001b[0;34m\"b\"\u001b[0m \u001b[0;32mnot\u001b[0m \u001b[0;32min\u001b[0m \u001b[0mmode\u001b[0m\u001b[0;34m:\u001b[0m\u001b[0;34m\u001b[0m\u001b[0;34m\u001b[0m\u001b[0m\n\u001b[1;32m   1734\u001b[0m                     \u001b[0mmode\u001b[0m \u001b[0;34m+=\u001b[0m \u001b[0;34m\"b\"\u001b[0m\u001b[0;34m\u001b[0m\u001b[0;34m\u001b[0m\u001b[0m\n\u001b[0;32m-> 1735\u001b[0;31m             self.handles = get_handle(\n\u001b[0m\u001b[1;32m   1736\u001b[0m                 \u001b[0mf\u001b[0m\u001b[0;34m,\u001b[0m\u001b[0;34m\u001b[0m\u001b[0;34m\u001b[0m\u001b[0m\n\u001b[1;32m   1737\u001b[0m                 \u001b[0mmode\u001b[0m\u001b[0;34m,\u001b[0m\u001b[0;34m\u001b[0m\u001b[0;34m\u001b[0m\u001b[0m\n",
            "\u001b[0;32m/usr/local/lib/python3.10/dist-packages/pandas/io/common.py\u001b[0m in \u001b[0;36mget_handle\u001b[0;34m(path_or_buf, mode, encoding, compression, memory_map, is_text, errors, storage_options)\u001b[0m\n\u001b[1;32m    854\u001b[0m         \u001b[0;32mif\u001b[0m \u001b[0mioargs\u001b[0m\u001b[0;34m.\u001b[0m\u001b[0mencoding\u001b[0m \u001b[0;32mand\u001b[0m \u001b[0;34m\"b\"\u001b[0m \u001b[0;32mnot\u001b[0m \u001b[0;32min\u001b[0m \u001b[0mioargs\u001b[0m\u001b[0;34m.\u001b[0m\u001b[0mmode\u001b[0m\u001b[0;34m:\u001b[0m\u001b[0;34m\u001b[0m\u001b[0;34m\u001b[0m\u001b[0m\n\u001b[1;32m    855\u001b[0m             \u001b[0;31m# Encoding\u001b[0m\u001b[0;34m\u001b[0m\u001b[0;34m\u001b[0m\u001b[0m\n\u001b[0;32m--> 856\u001b[0;31m             handle = open(\n\u001b[0m\u001b[1;32m    857\u001b[0m                 \u001b[0mhandle\u001b[0m\u001b[0;34m,\u001b[0m\u001b[0;34m\u001b[0m\u001b[0;34m\u001b[0m\u001b[0m\n\u001b[1;32m    858\u001b[0m                 \u001b[0mioargs\u001b[0m\u001b[0;34m.\u001b[0m\u001b[0mmode\u001b[0m\u001b[0;34m,\u001b[0m\u001b[0;34m\u001b[0m\u001b[0;34m\u001b[0m\u001b[0m\n",
            "\u001b[0;31mFileNotFoundError\u001b[0m: [Errno 2] No such file or directory: 'path/to/your/dataset.csv'"
          ]
        }
      ]
    },
    {
      "cell_type": "markdown",
      "source": [
        "How has the distribution of Nobel Prizes changed over time for each category?"
      ],
      "metadata": {
        "id": "8CEO7bkjEyyh"
      }
    },
    {
      "cell_type": "code",
      "source": [
        "# Calculate the distribution for each category over time\n",
        "category_yearly_counts = nobel.groupby(['year', 'category']).size().unstack().fillna(0)\n",
        "\n",
        "# Plotting the distribution for each category\n",
        "plt.figure(figsize=(14, 8))\n",
        "for category in category_yearly_counts.columns:\n",
        "    plt.plot(category_yearly_counts.index, category_yearly_counts[category], label=category)\n",
        "\n",
        "plt.title('Distribution of Nobel Prizes Over Time for Each Category')\n",
        "plt.xlabel('Year')\n",
        "plt.ylabel('Number of Prizes')\n",
        "plt.legend()\n",
        "plt.show()\n"
      ],
      "metadata": {
        "colab": {
          "base_uri": "https://localhost:8080/",
          "height": 245
        },
        "id": "yxpuUfa1E8nJ",
        "outputId": "348d56e3-9020-428b-ea21-469fddeef5a1"
      },
      "execution_count": 1,
      "outputs": [
        {
          "output_type": "error",
          "ename": "NameError",
          "evalue": "ignored",
          "traceback": [
            "\u001b[0;31m---------------------------------------------------------------------------\u001b[0m",
            "\u001b[0;31mNameError\u001b[0m                                 Traceback (most recent call last)",
            "\u001b[0;32m<ipython-input-1-c060c42295d7>\u001b[0m in \u001b[0;36m<cell line: 2>\u001b[0;34m()\u001b[0m\n\u001b[1;32m      1\u001b[0m \u001b[0;31m# Calculate the distribution for each category over time\u001b[0m\u001b[0;34m\u001b[0m\u001b[0;34m\u001b[0m\u001b[0m\n\u001b[0;32m----> 2\u001b[0;31m \u001b[0mcategory_yearly_counts\u001b[0m \u001b[0;34m=\u001b[0m \u001b[0mnobel\u001b[0m\u001b[0;34m.\u001b[0m\u001b[0mgroupby\u001b[0m\u001b[0;34m(\u001b[0m\u001b[0;34m[\u001b[0m\u001b[0;34m'year'\u001b[0m\u001b[0;34m,\u001b[0m \u001b[0;34m'category'\u001b[0m\u001b[0;34m]\u001b[0m\u001b[0;34m)\u001b[0m\u001b[0;34m.\u001b[0m\u001b[0msize\u001b[0m\u001b[0;34m(\u001b[0m\u001b[0;34m)\u001b[0m\u001b[0;34m.\u001b[0m\u001b[0munstack\u001b[0m\u001b[0;34m(\u001b[0m\u001b[0;34m)\u001b[0m\u001b[0;34m.\u001b[0m\u001b[0mfillna\u001b[0m\u001b[0;34m(\u001b[0m\u001b[0;36m0\u001b[0m\u001b[0;34m)\u001b[0m\u001b[0;34m\u001b[0m\u001b[0;34m\u001b[0m\u001b[0m\n\u001b[0m\u001b[1;32m      3\u001b[0m \u001b[0;34m\u001b[0m\u001b[0m\n\u001b[1;32m      4\u001b[0m \u001b[0;31m# Plotting the distribution for each category\u001b[0m\u001b[0;34m\u001b[0m\u001b[0;34m\u001b[0m\u001b[0m\n\u001b[1;32m      5\u001b[0m \u001b[0mplt\u001b[0m\u001b[0;34m.\u001b[0m\u001b[0mfigure\u001b[0m\u001b[0;34m(\u001b[0m\u001b[0mfigsize\u001b[0m\u001b[0;34m=\u001b[0m\u001b[0;34m(\u001b[0m\u001b[0;36m14\u001b[0m\u001b[0;34m,\u001b[0m \u001b[0;36m8\u001b[0m\u001b[0;34m)\u001b[0m\u001b[0;34m)\u001b[0m\u001b[0;34m\u001b[0m\u001b[0;34m\u001b[0m\u001b[0m\n",
            "\u001b[0;31mNameError\u001b[0m: name 'nobel' is not defined"
          ]
        }
      ]
    },
    {
      "cell_type": "markdown",
      "source": [
        "This question delves into the evolution of Nobel Prize distribution across various categories over the years. Leveraging Pandas for efficient data manipulation and NumPy for handling any potential missing values, the code group by both the award year and category, creating a time-series representation. The resulting Matplotlib plot visualizes trends, aiding in the identification of shifts in recognition across different fields. Understanding these changes can offer insights into the dynamic nature of scientific, literary, and peace-related achievements over time."
      ],
      "metadata": {
        "id": "4HQkd1JFFOeN"
      }
    },
    {
      "cell_type": "markdown",
      "source": [
        "What is the gender distribution among Nobel laureates, and how has it evolved over the years?"
      ],
      "metadata": {
        "id": "EOU5oRRmFTLK"
      }
    },
    {
      "cell_type": "code",
      "source": [
        "# Calculate the gender distribution for each year\n",
        "gender_yearly_counts = nobel.groupby(['year', 'gender']).size().unstack().fillna(0)\n",
        "\n",
        "# Plotting the gender distribution over the years\n",
        "plt.figure(figsize=(12, 6))\n",
        "plt.stackplot(gender_yearly_counts.index, gender_yearly_counts['female'], gender_yearly_counts['male'], labels=['Female', 'Male'], colors=['lightcoral', 'lightblue'])\n",
        "plt.title('Gender Distribution of Nobel Laureates Over Time')\n",
        "plt.xlabel('Year')\n",
        "plt.ylabel('Number of Laureates')\n",
        "plt.legend()\n",
        "plt.show()\n"
      ],
      "metadata": {
        "id": "xHrfHa_QFiRc"
      },
      "execution_count": null,
      "outputs": []
    },
    {
      "cell_type": "markdown",
      "source": [
        "This question investigates the gender demographics among Nobel laureates, highlighting the evolving trends across the years. Utilizing Pandas for grouping and NumPy for filling in any missing data, the code generates a Matplotlib stacked plot to showcase the changing gender distribution. This visual representation provides a nuanced understanding of gender disparities or shifts in recognition over time, shedding light on the historical aspects of gender representation in various Nobel Prize categories."
      ],
      "metadata": {
        "id": "wNmqg7ldFlhJ"
      }
    },
    {
      "cell_type": "markdown",
      "source": [
        "Can we visualize the geographical distribution of Nobel laureates using a world map?"
      ],
      "metadata": {
        "id": "wop5FkmfFq0J"
      }
    },
    {
      "cell_type": "code",
      "source": [
        "# Group by birth country and count laureates\n",
        "birth_country_counts = nobel['borncountry'].value_counts()\n",
        "\n",
        "# Load a world map shapefile\n",
        "world = gpd.read_file(gpd.datasets.get_path('naturalearth_lowres'))\n",
        "\n",
        "# Merge the world map with laureate counts\n",
        "world = world.merge(birth_country_counts, how='left', left_on='name', right_index=True)\n",
        "\n",
        "# Plotting the map\n",
        "fig, ax = plt.subplots(1, 1, figsize=(15, 10))\n",
        "divider = make_axes_locatable(ax)\n",
        "cax = divider.append_axes(\"right\", size=\"5%\", pad=0.1)\n",
        "world.plot(column='borncountry', ax=ax, legend=True, cax=cax, cmap='viridis', legend_kwds={'label': \"Number of Laureates\"})\n",
        "ax.set_title('Geographical Distribution of Nobel Laureates')\n",
        "plt.show()\n"
      ],
      "metadata": {
        "id": "GXVZarU4FtZc"
      },
      "execution_count": null,
      "outputs": []
    },
    {
      "cell_type": "markdown",
      "source": [
        "This question employs Pandas for data grouping, NumPy for handling missing values, and Matplotlib for creating an insightful world map visualization. By counting laureates from each country and merging this information with a world map shapefile using Geopandas, the resulting map illustrates the geographical spread of Nobel laureates. This visual representation offers a dynamic view of Nobel Prize distribution, emphasizing regions with significant contributions to various fields."
      ],
      "metadata": {
        "id": "YJSkzDJcF3Tz"
      }
    },
    {
      "cell_type": "markdown",
      "source": [
        "What is the distribution of award motivations, and are there any notable patterns?"
      ],
      "metadata": {
        "id": "5qJ9eVp1F68F"
      }
    },
    {
      "cell_type": "code",
      "source": [
        "# Extract unique award motivations and their counts\n",
        "motivation_counts = nobel['motivation'].value_counts()\n",
        "\n",
        "# Plotting the distribution of award motivations\n",
        "plt.figure(figsize=(15, 6))\n",
        "motivation_counts.head(20).plot(kind='bar', color='salmon')\n",
        "plt.title('Distribution of Nobel Prize Award Motivations')\n",
        "plt.xlabel('Award Motivation')\n",
        "plt.ylabel('Count')\n",
        "plt.xticks(rotation=45, ha='right')\n",
        "plt.show()\n"
      ],
      "metadata": {
        "id": "1nin__bLGLUc"
      },
      "execution_count": null,
      "outputs": []
    },
    {
      "cell_type": "markdown",
      "source": [
        "This question explores the distribution of motivations behind Nobel Prize awards, providing a glimpse into the reasons that have historically garnered recognition. Using Pandas to extract unique values and Matplotlib to create a bar plot, the visualization showcases the most common motivations. The analysis aims to identify prevalent themes or patterns, contributing to a deeper understanding of the values and principles that have been historically celebrated by the Nobel Committee."
      ],
      "metadata": {
        "id": "DltjsNUrGN7b"
      }
    },
    {
      "cell_type": "markdown",
      "source": [
        "Is there a correlation between the birth country's economic indicators and the number of laureates it produces?"
      ],
      "metadata": {
        "id": "0h7kIwbsGUtT"
      }
    },
    {
      "cell_type": "code",
      "source": [
        "# Assume there is an additional dataset containing economic indicators for each country\n",
        "\n",
        "# Merge Nobel Prize dataset with economic indicators dataset\n",
        "merged_df = nobel.merge(economic_indicators_df, how='left', left_on='borncountry', right_on='country')\n",
        "\n",
        "# Calculate correlation between economic indicators and the number of laureates\n",
        "correlation_economy_laureates = merged_df[['economic_indicator_1', 'economic_indicator_2', 'economic_indicator_3', 'economic_indicator_4', 'economic_indicator_5', 'economic_indicator_6', 'economic_indicator_7', 'economic_indicator_8', 'economic_indicator_9', 'economic_indicator_10', 'economic_indicator_11', 'economic_indicator_12', 'economic_indicator_13', 'economic_indicator_14', 'economic_indicator_15', 'economic_indicator_16', 'economic_indicator_17', 'economic_indicator_18', 'economic_indicator_19', 'economic_indicator_20', 'economic_indicator_21', 'economic_indicator_22', 'economic_indicator_23', 'economic_indicator_24', 'economic_indicator_25']].apply(lambda x: x.corr(merged_df['borncountry'].value_counts()), axis=0)\n"
      ],
      "metadata": {
        "id": "v5v2kyoqGVyD"
      },
      "execution_count": null,
      "outputs": []
    },
    {
      "cell_type": "markdown",
      "source": [
        "This complex question assumes the existence of an additional dataset containing economic indicators for each country. By merging this economic data with the Nobel Prize dataset using Pandas and assessing correlations with NumPy, the analysis explores potential links between a country's economic health and its success in producing Nobel laureates. The resulting insights, visualized using Matplotlib, could uncover intriguing relationships between economic prosperity and academic or societal achievements, contributing to a nuanced understanding of the factors influencing Nobel Prize recognition."
      ],
      "metadata": {
        "id": "5VoQpB7zGZOE"
      }
    },
    {
      "cell_type": "markdown",
      "source": [
        "How has the age distribution of Nobel laureates changed over the years, and is there a difference between categories?"
      ],
      "metadata": {
        "id": "ou0qrTIQGc7D"
      }
    },
    {
      "cell_type": "code",
      "source": [
        "# Calculate the age of laureates at the time of receiving the Nobel Prize\n",
        "nobel['age_at_award'] = nobel['year'] - nobel['borncity']\n",
        "\n",
        "# Group by both year and category, calculate the mean age, and plot the results\n",
        "age_category_yearly = nobel.groupby(['year', 'category'])['age_at_award'].mean().unstack()\n",
        "\n",
        "plt.figure(figsize=(14, 8))\n",
        "for category in age_category_yearly.columns:\n",
        "    plt.plot(age_category_yearly.index, age_category_yearly[category], label=category)\n",
        "\n",
        "plt.title('Mean Age of Nobel Laureates Over Time for Each Category')\n",
        "plt.xlabel('Year')\n",
        "plt.ylabel('Mean Age at Award')\n",
        "plt.legend()\n",
        "plt.show()\n"
      ],
      "metadata": {
        "id": "hI-bPhyvGfB7"
      },
      "execution_count": null,
      "outputs": []
    },
    {
      "cell_type": "markdown",
      "source": [
        "This question explores the changing age distribution of Nobel laureates over the years and examines whether there are variations between different prize categories. Utilizing Pandas for data manipulation, NumPy for handling date calculations, and Matplotlib for visualization, the code calculates the mean age of laureates at the time of receiving the Nobel Prize for each year and category. The resulting plot offers insights into potential trends or differences in the age at which laureates are recognized in various fields."
      ],
      "metadata": {
        "id": "rwM6VBd3GgpT"
      }
    },
    {
      "cell_type": "markdown",
      "source": [
        "What is the proportion of posthumous awards in each category, and how has it evolved?"
      ],
      "metadata": {
        "id": "yeV4kvnPGjVb"
      }
    },
    {
      "cell_type": "code",
      "source": [
        "# Create a binary column indicating whether the laureate is deceased at the time of the award\n",
        "nobel['posthumous'] = nobel['died'].notnull()\n",
        "\n",
        "# Group by category and year, calculate the proportion of posthumous awards, and plot the results\n",
        "posthumous_proportion_category_yearly = nobel.groupby(['year', 'category'])['posthumous'].mean().unstack()\n",
        "\n",
        "plt.figure(figsize=(14, 8))\n",
        "for category in posthumous_proportion_category_yearly.columns:\n",
        "    plt.plot(posthumous_proportion_category_yearly.index, posthumous_proportion_category_yearly[category], label=category)\n",
        "\n",
        "plt.title('Proportion of Posthumous Nobel Prizes Over Time for Each Category')\n",
        "plt.xlabel('Year')\n",
        "plt.ylabel('Proportion of Posthumous Awards')\n",
        "plt.legend()\n",
        "plt.show()\n"
      ],
      "metadata": {
        "id": "x8bIf-bJGleD"
      },
      "execution_count": null,
      "outputs": []
    },
    {
      "cell_type": "markdown",
      "source": [
        "This question investigates the prevalence of posthumous awards in each Nobel Prize category and explores how this proportion has changed over time. Leveraging Pandas for data manipulation and Matplotlib for visualization, the code creates a binary column indicating whether the laureate is deceased at the time of the award and calculates the proportion of posthumous awards for each year and category. The resulting plot provides insights into historical trends in posthumous recognition across different fields."
      ],
      "metadata": {
        "id": "JiF7TlrFGnWD"
      }
    }
  ]
}